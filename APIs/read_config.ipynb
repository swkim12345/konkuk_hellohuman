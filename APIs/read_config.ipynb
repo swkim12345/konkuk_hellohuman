{
 "cells": [
  {
   "cell_type": "code",
   "execution_count": 12,
   "metadata": {},
   "outputs": [
    {
     "name": "stdout",
     "output_type": "stream",
     "text": [
      "2q9q3l4gi3lr0nuad91runfaqf\n"
     ]
    }
   ],
   "source": [
    "import json\n",
    "\n",
    "file_path = \"config.json\"\n",
    "with open(file_path, \"r\") as json_file:\n",
    "    json_data = json.load(json_file)\n",
    "\n",
    "print(json_data['client_ID'])"
   ]
  },
  {
   "cell_type": "code",
   "execution_count": null,
   "metadata": {},
   "outputs": [],
   "source": []
  }
 ],
 "metadata": {
  "kernelspec": {
   "display_name": "Python 3",
   "language": "python",
   "name": "python3"
  },
  "language_info": {
   "codemirror_mode": {
    "name": "ipython",
    "version": 3
   },
   "file_extension": ".py",
   "mimetype": "text/x-python",
   "name": "python",
   "nbconvert_exporter": "python",
   "pygments_lexer": "ipython3",
   "version": "3.8.5"
  }
 },
 "nbformat": 4,
 "nbformat_minor": 4
}
