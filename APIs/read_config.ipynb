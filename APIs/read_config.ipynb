{
 "cells": [
  {
   "cell_type": "code",
   "execution_count": 11,
   "metadata": {},
   "outputs": [
    {
     "name": "stdout",
     "output_type": "stream",
     "text": [
      "{'auth_URL': 'https://oauth.api.lgthinqai.net:443/v1/cognito/',\n",
      " 'client_ID': '2q9q3l4gi3lr0nuad91runfaqf',\n",
      " 'client_PW': '1rrj3nk1u3rkoten4k3n60t397mliimt6p8dqibr7o4ifole8ocn',\n",
      " 'rest_api_key': 'MTtlYjQ1Zjk5ZTVjMDU0ZTRmODJhOTEzN2JkZGJjZDAxNzsxNjM2NjAxMTY4OTEz'}\n"
     ]
    }
   ],
   "source": [
    "import json\n",
    "from pprint import *\n",
    "file_path = \"config.json\"\n",
    "with open(file_path, \"r\") as json_file:\n",
    "    json_data = json.load(json_file)\n",
    "\n",
    "def read_client_ID():\n",
    "    return json_data['client_ID']\n",
    "\n",
    "def read_client_PW():\n",
    "    return json_data['client_PW']\n",
    "\n",
    "def read_rest_api_key():\n",
    "    return json_data['rest_api_key']\n",
    "\n",
    "def read_auth_URL():\n",
    "    return json_data['auth_URL']\n",
    "\n",
    "def read_all_data():\n",
    "    return json_data\n",
    "\n",
    "pprint(read_all_data())"
   ]
  },
  {
   "cell_type": "code",
   "execution_count": null,
   "metadata": {},
   "outputs": [],
   "source": []
  }
 ],
 "metadata": {
  "kernelspec": {
   "display_name": "Python 3",
   "language": "python",
   "name": "python3"
  },
  "language_info": {
   "codemirror_mode": {
    "name": "ipython",
    "version": 3
   },
   "file_extension": ".py",
   "mimetype": "text/x-python",
   "name": "python",
   "nbconvert_exporter": "python",
   "pygments_lexer": "ipython3",
   "version": "3.9.7"
  }
 },
 "nbformat": 4,
 "nbformat_minor": 4
}
