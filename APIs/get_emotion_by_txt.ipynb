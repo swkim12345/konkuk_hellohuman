{
 "cells": [
  {
   "cell_type": "code",
   "execution_count": 1,
   "metadata": {},
   "outputs": [
    {
     "name": "stdout",
     "output_type": "stream",
     "text": [
      "500\n"
     ]
    }
   ],
   "source": [
    "import requests\n",
    "import json\n",
    "\n",
    "import base64\n",
    "import requests\n",
    "\n",
    "#hard coding 안 되요....... 살려줘요...\n",
    "client_ID = '2q9q3l4gi3lr0nuad91runfaqf'\n",
    "client_PW = '1rrj3nk1u3rkoten4k3n60t397mliimt6p8dqibr7o4ifole8ocn'\n",
    "auth_raw = client_ID + ':' + client_PW\n",
    "auth_byte = auth_raw.encode('ascii')\n",
    "auth_base64 = base64.b64encode(auth_byte)\n",
    "auth = 'Basic ' + auth_base64.decode('ascii')\n",
    "r = requests.post('https://oauth.api.lgthinqai.net:443/v1/cognito/', headers={'Authorization' : auth, 'Content-Type' : 'application/x-www-form-urlencoded'})\n",
    "token = r.json()[\"access_token\"]\n",
    "\n",
    "\n",
    "emotion_recognition_url = \"https://korea.api.lgthinqai.net:443/emotion/er/v1/recognition\"\n",
    "\n",
    "rest_api_key = 'MTtlYjQ1Zjk5ZTVjMDU0ZTRmODJhOTEzN2JkZGJjZDAxNzsxNjM2NjAxMTY4OTEz'\n",
    "\n",
    "headers = {\n",
    "    \"x-api-key\": rest_api_key,\n",
    "    \"Authorization\": token,\n",
    "    \"Content-Type\": 'multipart/form-data;charset=UTF-8'\n",
    "}\n",
    "body = json.dumps({\n",
    "    \"type\": \"EMOTION_RECOGNITION\",\n",
    "    \"input\": { \n",
    "        \"type\": \"TEXT\", \n",
    "        \"text\": \"나는 지금 매우 화가 나 있습니다\" \n",
    "    }\n",
    "}, sort_keys = False)\n",
    "\n",
    "\n",
    "res = requests.post(emotion_recognition_url, headers=headers, data = body)\n",
    "\n",
    "#status code check\n",
    "print(res.status_code)"
   ]
  },
  {
   "cell_type": "code",
   "execution_count": 2,
   "metadata": {
    "scrolled": true
   },
   "outputs": [
    {
     "name": "stdout",
     "output_type": "stream",
     "text": [
      "{'Date': 'Mon, 22 Nov 2021 01:59:46 GMT', 'Content-Type': 'application/json;charset=utf-8', 'Transfer-Encoding': 'chunked', 'Connection': 'keep-alive', 'Set-Cookie': 'AWSALB=5ZN/CbS8eJw3jP4pKicsPkL61ZgMm7H8EuHUtKaqqiYC2tGmyOIu+Mu6gRPzzQxmZV98ehv5Rwio5XZungXoxmHan1nmKlr/cNd2KKajbe6Idp+a9F/P0W2QrHFP; Expires=Mon, 29 Nov 2021 01:59:46 GMT; Path=/, AWSALBCORS=5ZN/CbS8eJw3jP4pKicsPkL61ZgMm7H8EuHUtKaqqiYC2tGmyOIu+Mu6gRPzzQxmZV98ehv5Rwio5XZungXoxmHan1nmKlr/cNd2KKajbe6Idp+a9F/P0W2QrHFP; Expires=Mon, 29 Nov 2021 01:59:46 GMT; Path=/; SameSite=None; Secure', 'Server': 'CAG', 'x-dtq-request-id': '01929181-b3f0-46f3-add7-5d94dc03d219', 'x-dtq-session-id': '7ebaf721-b516-483d-85a6-9748fd4832b4'}\n",
      "{\"resultCode\":\"17004\",\"message\":\"INTERNAL_SERVER_ERROR\"}\n",
      "eyJraWQiOiJCeTd2YzJLa2c4Zkt3K2V0SFBwa1NlTVJUS0FmRWZWXC9NcGdmSmV3Nlo1QT0iLCJhbGciOiJSUzI1NiJ9.eyJzdWIiOiIycTlxM2w0Z2kzbHIwbnVhZDkxcnVuZmFxZiIsInRva2VuX3VzZSI6ImFjY2VzcyIsInNjb3BlIjoicmVzb3VyY2VfYWNjZXNzX3Njb3BlX2lkZW50aWZpZXJcL3N0dCByZXNvdXJjZV9hY2Nlc3Nfc2NvcGVfaWRlbnRpZmllclwvdHRzIHJlc291cmNlX2FjY2Vzc19zY29wZV9pZGVudGlmaWVyXC9ubHAgcmVzb3VyY2VfYWNjZXNzX3Njb3BlX2lkZW50aWZpZXJcL2VyIHJlc291cmNlX2FjY2Vzc19zY29wZV9pZGVudGlmaWVyXC9jcnVkIiwiYXV0aF90aW1lIjoxNjM3NTQ2Mzg2LCJpc3MiOiJodHRwczpcL1wvY29nbml0by1pZHAuYXAtbm9ydGhlYXN0LTIuYW1hem9uYXdzLmNvbVwvYXAtbm9ydGhlYXN0LTJfN1VUYXhzSVlzIiwiZXhwIjoxNjM3NTQ5OTg2LCJpYXQiOjE2Mzc1NDYzODYsInZlcnNpb24iOjIsImp0aSI6ImEzMWQ0NDM5LTA4ZTktNDk2OS1hNGE3LTExNzA3Y2NhMzVhNiIsImNsaWVudF9pZCI6IjJxOXEzbDRnaTNscjBudWFkOTFydW5mYXFmIn0.SlP-DWeBniETwuY4DncPzz84TiATT1Tab4Rh-tABoHCUqTKURAqse1HKXwY-NVPmSdAWsHHcpewOr73PuIt8yBjWfdXzQyTUrWLzkNgKsXBckY0R5d4HD7uN9zOCFQhAjUTw1zSdK1VQJwXufdJPQTmgazGPIeWAfunQ8aof2KE9HmtV5aE7oU8eV8BBmnDzV45xk6_rj3unF5DP4BwUKJcHOn-2uqWNgCnoEl-_8WvO7nwfT5YS4yGN_dspTdArA6rLgd5BRkUu8L6qFn7XyeKMJ5HVUAv54L2nj9T8_PYRrFjR6oSQAfqb1KjCUmjoEnsGshfv--iV09UsRr24tg\n"
     ]
    }
   ],
   "source": [
    "print(res.headers)\n",
    "\n",
    "print(res.text)\n",
    "print(token)"
   ]
  },
  {
   "cell_type": "code",
   "execution_count": null,
   "metadata": {},
   "outputs": [],
   "source": []
  }
 ],
 "metadata": {
  "kernelspec": {
   "display_name": "Python 3",
   "language": "python",
   "name": "python3"
  },
  "language_info": {
   "codemirror_mode": {
    "name": "ipython",
    "version": 3
   },
   "file_extension": ".py",
   "mimetype": "text/x-python",
   "name": "python",
   "nbconvert_exporter": "python",
   "pygments_lexer": "ipython3",
   "version": "3.8.12"
  }
 },
 "nbformat": 4,
 "nbformat_minor": 4
}
