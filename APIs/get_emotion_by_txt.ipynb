{
 "cells": [
  {
   "cell_type": "code",
   "execution_count": 18,
   "metadata": {},
   "outputs": [
    {
     "name": "stdout",
     "output_type": "stream",
     "text": [
      "<MultipartEncoder: {'Authorization': 'hell', 'Content-Type': 'multipart/form-data;charset=UTF-8', 'x-api-key': 'hello', 'config': 'hello', 'type': 'EMOTION_RECOGNITION', 'input': '{             \"type\": \"TEXT\",             \"text\": \"나는 지금 매우 화가 나 있습니다.\"        }'}>\n",
      "{\"resultCode\":\"17004\",\"message\":\"INTERNAL_SERVER_ERROR\"}\n",
      "<Response [500]>\n"
     ]
    }
   ],
   "source": [
    "\n",
    "### THIS FILE IS LEGACY.\n",
    "### USE \"get_emotion_by_text.ipynb\"\n",
    "\n",
    "import requests\n",
    "import json\n",
    "import base64\n",
    "import requests\n",
    "from requests_toolbelt.multipart.encoder import MultipartEncoder\n",
    "client_ID = '2q9q3l4gi3lr0nuad91runfaqf'\n",
    "client_PW = '1rrj3nk1u3rkoten4k3n60t397mliimt6p8dqibr7o4ifole8ocn'\n",
    "auth_raw = client_ID + ':' + client_PW\n",
    "auth_byte = auth_raw.encode('ascii')\n",
    "auth_base64 = base64.b64encode(auth_byte)\n",
    "auth = 'Basic ' + auth_base64.decode('ascii')\n",
    "r = requests.post('https://oauth.api.lgthinqai.net:443/v1/cognito/', headers={'Authorization' : auth, 'Content-Type' : 'application/x-www-form-urlencoded'})\n",
    "\n",
    "token = r.json()[\"access_token\"]\n",
    "emotion_recognition_url = \"https://korea.api.lgthinqai.net:443/emotion/er/v1/recognition\"\n",
    "rest_api_key = 'MTtlYjQ1Zjk5ZTVjMDU0ZTRmODJhOTEzN2JkZGJjZDAxNzsxNjM2NjAxMTY4OTEz'\n",
    "\n",
    "headers = {\n",
    "    \"Content-Type\": 'multipart/form-data;charset=UTF-8',\n",
    "    \"x-api-key\": rest_api_key,\n",
    "    \"Authorization\": token\n",
    "}\n",
    "\n",
    "mp_encoder = MultipartEncoder(\n",
    "    fields={        'Authorization': 'hell',\n",
    "        'Content-Type': 'multipart/form-data;charset=UTF-8',\n",
    "        'x-api-key': \"hello\",\n",
    "        'config': 'hello',\n",
    "        \n",
    "        'type': 'EMOTION_RECOGNITION',\n",
    "        'input': '{ \\\n",
    "            \"type\": \"TEXT\", \\\n",
    "            \"text\": \"나는 지금 매우 화가 나 있습니다.\"\\\n",
    "        }'\n",
    "    }\n",
    ")\n",
    "body = {\n",
    "    \"type\": \"EMOTION_RECOGNITION\",\n",
    "    \"input\": { \n",
    "        \"type\": \"TEXT\", \n",
    "        \"text\": \"나는 지금 매우 화가 나 있습니다.\"\n",
    "    },\n",
    "    \"config\": \"TEXT\"\n",
    "}\n",
    "#text = \"hello\"\n",
    "#b_txt = text.encode('utf-8')\n",
    "#files = dict(config=\"------12345\")\n",
    "\n",
    "#res = requests.post(emotion_recognition_url, headers = headers, data = body, files = {\"config\":\"hello\"})\n",
    "print(mp_encoder)\n",
    "\n",
    "r = requests.post(\n",
    "    emotion_recognition_url,\n",
    "    data=mp_encoder,  \n",
    "    headers={'Content-Type': 'multipart/form-data;charset=UTF-8', 'x-api-key': rest_api_key, 'Authorization': token})\n",
    "print(r.text)\n",
    "print(r)\n"
   ]
  },
  {
   "cell_type": "code",
   "execution_count": null,
   "metadata": {
    "scrolled": true
   },
   "outputs": [],
   "source": []
  },
  {
   "cell_type": "code",
   "execution_count": null,
   "metadata": {},
   "outputs": [],
   "source": []
  }
 ],
 "metadata": {
  "kernelspec": {
   "display_name": "Python 3",
   "language": "python",
   "name": "python3"
  },
  "language_info": {
   "codemirror_mode": {
    "name": "ipython",
    "version": 3
   },
   "file_extension": ".py",
   "mimetype": "text/x-python",
   "name": "python",
   "nbconvert_exporter": "python",
   "pygments_lexer": "ipython3",
   "version": "3.8.5"
  }
 },
 "nbformat": 4,
 "nbformat_minor": 4
}
