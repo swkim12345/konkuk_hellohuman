{
 "cells": [
  {
   "cell_type": "code",
   "execution_count": 12,
   "metadata": {},
   "outputs": [],
   "source": [
    "import requests\n",
    "import json\n",
    "\n",
    "import base64\n",
    "import requests\n",
    "client_ID = '2q9q3l4gi3lr0nuad91runfaqf'\n",
    "client_PW = '1rrj3nk1u3rkoten4k3n60t397mliimt6p8dqibr7o4ifole8ocn'\n",
    "auth_raw = client_ID + ':' + client_PW\n",
    "auth_byte = auth_raw.encode('ascii')\n",
    "auth_base64 = base64.b64encode(auth_byte)\n",
    "auth = 'Basic ' + auth_base64.decode('ascii')\n",
    "r = requests.post('https://oauth.api.lgthinqai.net:443/v1/cognito/', headers={'Authorization' : auth, 'Content-Type' : 'application/x-www-form-urlencoded'})\n",
    "token = r.json()[\"access_token\"]\n",
    "\n",
    "\n",
    "emotion_recognition_url = \"https://korea.api.lgthinqai.net:443/emotion/er/v1/recognition\"\n",
    "\n",
    "rest_api_key = 'MTtlYjQ1Zjk5ZTVjMDU0ZTRmODJhOTEzN2JkZGJjZDAxNzsxNjM2NjAxMTY4OTEz'\n",
    "\n",
    "headers = {\n",
    "    \"Content-Type\": 'multipart/form-data;charset=UTF-8',\n",
    "    \"x-api-key\": rest_api_key,\n",
    "    \"Authorization\": token\n",
    "}\n",
    "body = json.dumps({\n",
    "    \"type\": \"EMOTION_RECOGNITION\",\n",
    "    \"input\": { \n",
    "        \"type\": \"TEXT\", \n",
    "        \"text\": \"나는 지금 매우 화가 나 있습니다.\" \n",
    "    }\n",
    "}, sort_keys = False)\n",
    "\n",
    "\n",
    "res = requests.post(emotion_recognition_url, headers=headers, data = body)"
   ]
  },
  {
   "cell_type": "code",
   "execution_count": 13,
   "metadata": {
    "scrolled": true
   },
   "outputs": [
    {
     "name": "stdout",
     "output_type": "stream",
     "text": [
      "{\"resultCode\":\"17004\",\"message\":\"INTERNAL_SERVER_ERROR\"}\n"
     ]
    }
   ],
   "source": [
    "print(res.text)"
   ]
  },
  {
   "cell_type": "code",
   "execution_count": null,
   "metadata": {},
   "outputs": [],
   "source": []
  }
 ],
 "metadata": {
  "kernelspec": {
   "display_name": "Python 3",
   "language": "python",
   "name": "python3"
  },
  "language_info": {
   "codemirror_mode": {
    "name": "ipython",
    "version": 3
   },
   "file_extension": ".py",
   "mimetype": "text/x-python",
   "name": "python",
   "nbconvert_exporter": "python",
   "pygments_lexer": "ipython3",
   "version": "3.8.5"
  }
 },
 "nbformat": 4,
 "nbformat_minor": 4
}
