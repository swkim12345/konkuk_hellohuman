{
 "cells": [
  {
   "cell_type": "code",
   "execution_count": 10,
   "metadata": {},
   "outputs": [
    {
     "name": "stdout",
     "output_type": "stream",
     "text": [
      "500\n"
     ]
    }
   ],
   "source": [
    "import requests\n",
    "import json\n",
    "\n",
    "import base64\n",
    "import requests\n",
    "\n",
    "#hard coding 안 되요....... 살려줘요...\n",
    "client_ID = '2q9q3l4gi3lr0nuad91runfaqf'\n",
    "client_PW = '1rrj3nk1u3rkoten4k3n60t397mliimt6p8dqibr7o4ifole8ocn'\n",
    "auth_raw = client_ID + ':' + client_PW\n",
    "auth_byte = auth_raw.encode('ascii')\n",
    "auth_base64 = base64.b64encode(auth_byte)\n",
    "auth = 'Basic ' + auth_base64.decode('ascii')\n",
    "r = requests.post('https://oauth.api.lgthinqai.net:443/v1/cognito/', headers={'Authorization' : auth, 'Content-Type' : 'application/x-www-form-urlencoded'})\n",
    "token = r.json()[\"access_token\"]\n",
    "\n",
    "\n",
    "emotion_recognition_url = \"https://korea.api.lgthinqai.net:443/emotion/er/v1/recognition\"\n",
    "\n",
    "rest_api_key = 'MTtlYjQ1Zjk5ZTVjMDU0ZTRmODJhOTEzN2JkZGJjZDAxNzsxNjM2NjAxMTY4OTEz'\n",
    "\n",
    "headers = {\n",
    "    \"x-api-key\": rest_api_key,\n",
    "    \"Authorization\": token,\n",
    "    \"Content-Type\": 'multipart/form-data;charset=UTF-8'\n",
    "}\n",
    "body = json.dumps({\n",
    "    \"type\": \"EMOTION_RECOGNITION\",\n",
    "    \"input\": { \n",
    "        \"type\": \"TEXT\", \n",
    "        \"text\": \"나는 지금 매우 화가 나 있습니다\" \n",
    "    }\n",
    "}, sort_keys = False)\n",
    "\n",
    "\n",
    "res = requests.post(emotion_recognition_url, headers=headers, data = body)\n",
    "\n",
    "#status code check\n",
    "print(res.status_code)"
   ]
  },
  {
   "cell_type": "code",
   "execution_count": 11,
   "metadata": {
    "scrolled": true
   },
   "outputs": [
    {
     "name": "stdout",
     "output_type": "stream",
     "text": [
      "{'Date': 'Thu, 11 Nov 2021 14:49:33 GMT', 'Content-Type': 'application/json;charset=utf-8', 'Transfer-Encoding': 'chunked', 'Connection': 'keep-alive', 'Set-Cookie': 'AWSALB=6j5+aqFFG3t9yZM2Vaz/YcTE0a4aVK6XJNCTnGck0MQ9/bbh9zWuvXVzknsWr+5z99l7vv7IsZwU8oXojDAq40aWWKoViNdIWn1NsnSidAc4v0VYjirJjEJLbyzX; Expires=Thu, 18 Nov 2021 14:49:33 GMT; Path=/, AWSALBCORS=6j5+aqFFG3t9yZM2Vaz/YcTE0a4aVK6XJNCTnGck0MQ9/bbh9zWuvXVzknsWr+5z99l7vv7IsZwU8oXojDAq40aWWKoViNdIWn1NsnSidAc4v0VYjirJjEJLbyzX; Expires=Thu, 18 Nov 2021 14:49:33 GMT; Path=/; SameSite=None; Secure', 'Server': 'CAG', 'x-dtq-request-id': 'dd33ad57-af96-4f2f-b34d-701a7a57b554', 'x-dtq-session-id': '8139d1cd-ca60-410b-ae97-187ad3981458'}\n",
      "{\"resultCode\":\"17004\",\"message\":\"INTERNAL_SERVER_ERROR\"}\n",
      "eyJraWQiOiJCeTd2YzJLa2c4Zkt3K2V0SFBwa1NlTVJUS0FmRWZWXC9NcGdmSmV3Nlo1QT0iLCJhbGciOiJSUzI1NiJ9.eyJzdWIiOiIycTlxM2w0Z2kzbHIwbnVhZDkxcnVuZmFxZiIsInRva2VuX3VzZSI6ImFjY2VzcyIsInNjb3BlIjoicmVzb3VyY2VfYWNjZXNzX3Njb3BlX2lkZW50aWZpZXJcL3N0dCByZXNvdXJjZV9hY2Nlc3Nfc2NvcGVfaWRlbnRpZmllclwvdHRzIHJlc291cmNlX2FjY2Vzc19zY29wZV9pZGVudGlmaWVyXC9ubHAgcmVzb3VyY2VfYWNjZXNzX3Njb3BlX2lkZW50aWZpZXJcL2VyIHJlc291cmNlX2FjY2Vzc19zY29wZV9pZGVudGlmaWVyXC9jcnVkIiwiYXV0aF90aW1lIjoxNjM2NjQyMTczLCJpc3MiOiJodHRwczpcL1wvY29nbml0by1pZHAuYXAtbm9ydGhlYXN0LTIuYW1hem9uYXdzLmNvbVwvYXAtbm9ydGhlYXN0LTJfN1VUYXhzSVlzIiwiZXhwIjoxNjM2NjQ1NzczLCJpYXQiOjE2MzY2NDIxNzMsInZlcnNpb24iOjIsImp0aSI6IjcyMzQ2NGI3LTNkZTUtNGUzNy04YzcwLTRhOGIxN2NiOWM0ZCIsImNsaWVudF9pZCI6IjJxOXEzbDRnaTNscjBudWFkOTFydW5mYXFmIn0.ucz5W0_iTzLycifoAeznltW6rMqYmjWnsTCMqK-PETM_IOc2j3JU5MzvUwF_DgPV0hTyXcB9G1cl9G_nb6MMkZjmccB856VpLjRZhsJdxSwvsYl9dcBAwtbBXdZLgqrXdfEzkYe7FaEqhgB8J3548_xx9ETJSL-j-8Ht2ebhATSPTxagvH7Q5F_BUNQ7X4Hn_wfRSSLEeC6F-m4HCNWqQlwo4ZK5pAhOoE2jJ-1MQ3eokksXkXnaZ-DWiy7sS9myTLUK0VEEXQ7SLPZViQfAqmcF_vJQCOg0Lyx6WQ_Aa4nA4Zji1S2Dlf9uSLpn852S1fhk_l_iQHoFkVL-vs5cXg\n"
     ]
    }
   ],
   "source": [
    "print(res.headers)\n",
    "\n",
    "print(res.text)\n",
    "print(token)"
   ]
  },
  {
   "cell_type": "code",
   "execution_count": null,
   "metadata": {},
   "outputs": [],
   "source": []
  }
 ],
 "metadata": {
  "kernelspec": {
   "display_name": "Python 3",
   "language": "python",
   "name": "python3"
  },
  "language_info": {
   "codemirror_mode": {
    "name": "ipython",
    "version": 3
   },
   "file_extension": ".py",
   "mimetype": "text/x-python",
   "name": "python",
   "nbconvert_exporter": "python",
   "pygments_lexer": "ipython3",
   "version": "3.8.12"
  }
 },
 "nbformat": 4,
 "nbformat_minor": 4
}
