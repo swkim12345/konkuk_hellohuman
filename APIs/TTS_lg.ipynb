{
 "cells": [
  {
   "cell_type": "code",
   "execution_count": 12,
   "metadata": {},
   "outputs": [
    {
     "name": "stdout",
     "output_type": "stream",
     "text": [
      "Basic MnE5cTNsNGdpM2xyMG51YWQ5MXJ1bmZhcWY6MXJyajNuazF1M3Jrb3RlbjRrM242MHQzOTdtbGlpbXQ2cDhkcWlicjdvNGlmb2xlOG9jbg==\n",
      "eyJraWQiOiJCeTd2YzJLa2c4Zkt3K2V0SFBwa1NlTVJUS0FmRWZWXC9NcGdmSmV3Nlo1QT0iLCJhbGciOiJSUzI1NiJ9.eyJzdWIiOiIycTlxM2w0Z2kzbHIwbnVhZDkxcnVuZmFxZiIsInRva2VuX3VzZSI6ImFjY2VzcyIsInNjb3BlIjoicmVzb3VyY2VfYWNjZXNzX3Njb3BlX2lkZW50aWZpZXJcL3N0dCByZXNvdXJjZV9hY2Nlc3Nfc2NvcGVfaWRlbnRpZmllclwvdHRzIHJlc291cmNlX2FjY2Vzc19zY29wZV9pZGVudGlmaWVyXC9ubHAgcmVzb3VyY2VfYWNjZXNzX3Njb3BlX2lkZW50aWZpZXJcL2VyIHJlc291cmNlX2FjY2Vzc19zY29wZV9pZGVudGlmaWVyXC9jcnVkIiwiYXV0aF90aW1lIjoxNjM2NjQzNjc2LCJpc3MiOiJodHRwczpcL1wvY29nbml0by1pZHAuYXAtbm9ydGhlYXN0LTIuYW1hem9uYXdzLmNvbVwvYXAtbm9ydGhlYXN0LTJfN1VUYXhzSVlzIiwiZXhwIjoxNjM2NjQ3Mjc2LCJpYXQiOjE2MzY2NDM2NzYsInZlcnNpb24iOjIsImp0aSI6IjhhZDBmNWQ5LWMxM2UtNDE0Ny1iYWM4LTUwOTU3ZGJmNjMxOCIsImNsaWVudF9pZCI6IjJxOXEzbDRnaTNscjBudWFkOTFydW5mYXFmIn0.BWwB1hk1IfNtA2wdu8Domz5HD-VeUpeQFgLwyCoc0QKMvY6_lUTqNMYXlQW_qCHw3j2dsXRfowNQD6NNhEV_jbx2zRIVtzhx3LKJtOGn4Uub4pB8YBfzSo_3g3KIDBhhLaLebIeveo6DwcG7o3M5G_pql_OvKhvF_MaCu10wKJh6uuQRbpCaqvk1wT2uIrisFs-0FNyu9eN6BRMwlq9QVYnayS-IRaslVkOkG1NLfSs0jhR6a7GEnZast_h6iFfrCl-ovclKSfBIA0KUqKl9QqHvqe7sAfvOxxYFcPO2vESzHB_IlVz-KMnHuFp9-roWs0ZHjWFvUFracCgak6yuLA\n",
      "1636643676.236923\n",
      "{\"type\": \"SYNTHESIS\", \"input\": {\"text\": \"\\uc0ac\\ub78c\\uc774 \\uba3c\\uc800\\ub2e4\", \"type\": \"Plain Text\"}, \"voiceConfig\": {\"speaker\": \"Male\", \"speed\": \"Medium\", \"languageCode\": \"ko_KR\", \"effect\": \"None\", \"volume\": \"Volume 4\", \"pitch\": \"Medium\"}, \"audioConfig\": {\"encoding\": \"MP3\"}, \"additionalConfig\": {\"privacy\": \"yes\"}}\n"
     ]
    }
   ],
   "source": [
    "import requests\n",
    "import json\n",
    "import time\n",
    "\n",
    "import base64\n",
    "\n",
    "#\n",
    "\n",
    "auth_raw = \"2q9q3l4gi3lr0nuad91runfaqf:1rrj3nk1u3rkoten4k3n60t397mliimt6p8dqibr7o4ifole8ocn\"\n",
    "auth_byte = auth_raw.encode('ascii')\n",
    "auth_base64 = base64.b64encode(auth_byte)\n",
    "auth = 'Basic ' + auth_base64.decode('ascii')\n",
    "print(auth)\n",
    "r = requests.post('https://oauth.api.lgthinqai.net:443/v1/cognito/', headers={'Authorization' : auth, 'Content-Type' : 'application/x-www-form-urlencoded'})\n",
    "print(r.json()[\"access_token\"])\n",
    "\n",
    "print(time.time())\n",
    "data_sample =json.dumps({\n",
    "  \"type\": \"SYNTHESIS\",\n",
    "  \"input\": {\n",
    "    \"text\": \"사람이 먼저다\",\n",
    "    \"type\": \"Plain Text\"\n",
    "  },\n",
    "  \"voiceConfig\": {\n",
    "    \"speaker\": \"Male\",\n",
    "    \"speed\": \"Medium\",\n",
    "    \"languageCode\": \"ko_KR\",\n",
    "    \"effect\": \"None\",\n",
    "    \"volume\": \"Volume 4\",\n",
    "    \"pitch\": \"Medium\"\n",
    "  },\n",
    "  \"audioConfig\": {\n",
    "    \"encoding\": \"MP3\"\n",
    "  },\n",
    "  \"additionalConfig\": {\n",
    "    \"privacy\": \"yes\"\n",
    "  }\n",
    "}, sort_keys=False)\n",
    "\n",
    "print(data_sample)\n",
    "voice_parse = requests.post('https://korea.api.lgthinqai.net:443/voice/tts/v1/synthesis', headers={'x-api-key' : 'MTtlYjQ1Zjk5ZTVjMDU0ZTRmODJhOTEzN2JkZGJjZDAxNzsxNjM2NjAxMTY4OTEz',\n",
    " 'Authorization' : r.json()[\"access_token\"],\n",
    "'Content-Type' : 'application/json'}, data=data_sample)\n",
    "\n",
    "mp3_file = voice_parse.content\n",
    "\n",
    "with open(\"mp3_file.mp3\", \"wb\") as f:\n",
    "    f.write(mp3_file)"
   ]
  },
  {
   "cell_type": "code",
   "execution_count": 2,
   "metadata": {},
   "outputs": [
    {
     "name": "stdout",
     "output_type": "stream",
     "text": [
      "<Response [200]>\n"
     ]
    }
   ],
   "source": [
    "print(voice_parse)\n"
   ]
  },
  {
   "cell_type": "code",
   "execution_count": null,
   "metadata": {},
   "outputs": [],
   "source": []
  }
 ],
 "metadata": {
  "kernelspec": {
   "display_name": "Python 3",
   "language": "python",
   "name": "python3"
  },
  "language_info": {
   "codemirror_mode": {
    "name": "ipython",
    "version": 3
   },
   "file_extension": ".py",
   "mimetype": "text/x-python",
   "name": "python",
   "nbconvert_exporter": "python",
   "pygments_lexer": "ipython3",
   "version": "3.8.12"
  }
 },
 "nbformat": 4,
 "nbformat_minor": 4
}
