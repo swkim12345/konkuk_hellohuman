{
 "cells": [
  {
   "cell_type": "code",
   "execution_count": 1,
   "metadata": {},
   "outputs": [
    {
     "name": "stdout",
     "output_type": "stream",
     "text": [
      "b'{\"access_token\":\"eyJraWQiOiJCeTd2YzJLa2c4Zkt3K2V0SFBwa1NlTVJUS0FmRWZWXC9NcGdmSmV3Nlo1QT0iLCJhbGciOiJSUzI1NiJ9.eyJzdWIiOiIycTlxM2w0Z2kzbHIwbnVhZDkxcnVuZmFxZiIsInRva2VuX3VzZSI6ImFjY2VzcyIsInNjb3BlIjoicmVzb3VyY2VfYWNjZXNzX3Njb3BlX2lkZW50aWZpZXJcL3N0dCByZXNvdXJjZV9hY2Nlc3Nfc2NvcGVfaWRlbnRpZmllclwvdHRzIHJlc291cmNlX2FjY2Vzc19zY29wZV9pZGVudGlmaWVyXC9ubHAgcmVzb3VyY2VfYWNjZXNzX3Njb3BlX2lkZW50aWZpZXJcL2VyIHJlc291cmNlX2FjY2Vzc19zY29wZV9pZGVudGlmaWVyXC9jcnVkIiwiYXV0aF90aW1lIjoxNjM3MDQ0NTkxLCJpc3MiOiJodHRwczpcL1wvY29nbml0by1pZHAuYXAtbm9ydGhlYXN0LTIuYW1hem9uYXdzLmNvbVwvYXAtbm9ydGhlYXN0LTJfN1VUYXhzSVlzIiwiZXhwIjoxNjM3MDQ4MTkxLCJpYXQiOjE2MzcwNDQ1OTEsInZlcnNpb24iOjIsImp0aSI6ImYzODk0MjdmLTkwMzMtNDVlYS04OTlhLWI1NDY2ZTAwYTg4OSIsImNsaWVudF9pZCI6IjJxOXEzbDRnaTNscjBudWFkOTFydW5mYXFmIn0.DPWPlPI5VDdj4GoIgKolLgnMy75Y8ZX7xmxPMa1frKWN-Jc5HmfMZOnX08vfqLB-UykJ1f6PhrnKlaV2F8EIxlkxtMquAqbjPXgBcWD-6LQduWLWsaGH1LPlPuzc97t0mRVDsWXvD3DAISNgI-E-PTY_ivl01OzMYXXU8MYiPvy2X3MsR0A0Gj6Y5gchVy1xDQbd7UmzzMQWYmrmeLyqNoI4HWHZGGlcFOZCpAouuFFeUJcyLn02x_G2T8Rpa5m_HUNN8r1Z7jEvCCGnHF1aCL40Fx8QKe4GI4tzFAIQOhVHByYbWeeM0F40vw-WNRhbhIu463YoJ3cIIBYXCaXLSw\",\"expires_in\":3600,\"token_type\":\"Bearer\"}'\n"
     ]
    }
   ],
   "source": [
    "import requests\n",
    "import json\n",
    "import time\n",
    "\n",
    "import base64\n",
    "\n",
    "\n",
    "\n",
    "auth_raw = \"2q9q3l4gi3lr0nuad91runfaqf:1rrj3nk1u3rkoten4k3n60t397mliimt6p8dqibr7o4ifole8ocn\"\n",
    "auth_byte = auth_raw.encode('ascii')\n",
    "auth_base64 = base64.b64encode(auth_byte)\n",
    "auth = 'Basic ' + auth_base64.decode('ascii')\n",
    "\n",
    "r = requests.post('https://oauth.api.lgthinqai.net:443/v1/cognito/', headers={'Authorization' : auth, 'Content-Type' : 'application/x-www-form-urlencoded'})\n",
    "\n",
    "print(r.content)\n",
    "\n",
    "data_sample =json.dumps({\n",
    "  \"type\": \"SYNTHESIS\",\n",
    "  \"input\": {\n",
    "    \"text\": \"여러분! 이거 다ㅏㅏㅏㅏㅏㅏ 거짓말입니다.\",\n",
    "    \"type\": \"Plain Text\"\n",
    "  },\n",
    "  \"voiceConfig\": {\n",
    "    \"speaker\": \"Male\",\n",
    "    \"speed\": \"Medium\",\n",
    "    \"languageCode\": \"ko_KR\",\n",
    "    \"effect\": \"None\",\n",
    "    \"volume\": \"Volume 4\",\n",
    "    \"pitch\": \"Medium\"\n",
    "  },\n",
    "  \"audioConfig\": {\n",
    "    \"encoding\": \"MP3\"\n",
    "  },\n",
    "  \"additionalConfig\": {\n",
    "    \"privacy\": \"yes\"\n",
    "  }\n",
    "}, sort_keys=False)\n",
    "\n",
    "voice_parse = requests.post('https://korea.api.lgthinqai.net:443/voice/tts/v1/synthesis', headers={'x-api-key' : 'MTtlYjQ1Zjk5ZTVjMDU0ZTRmODJhOTEzN2JkZGJjZDAxNzsxNjM2NjAxMTY4OTEz',\n",
    " 'Authorization' : r.json()[\"access_token\"],\n",
    "'Content-Type' : 'application/json'}, data=data_sample)\n",
    "\n",
    "mp3_file = voice_parse.content\n",
    "\n",
    "with open(\"mp3_file.mp3\", \"wb\") as f:\n",
    "    f.write(mp3_file)"
   ]
  },
  {
   "cell_type": "code",
   "execution_count": 2,
   "metadata": {},
   "outputs": [
    {
     "name": "stdout",
     "output_type": "stream",
     "text": [
      "<Response [200]>\n"
     ]
    }
   ],
   "source": [
    "print(voice_parse)\n"
   ]
  },
  {
   "cell_type": "code",
   "execution_count": null,
   "metadata": {},
   "outputs": [],
   "source": []
  }
 ],
 "metadata": {
  "kernelspec": {
   "display_name": "Python 3",
   "language": "python",
   "name": "python3"
  },
  "language_info": {
   "codemirror_mode": {
    "name": "ipython",
    "version": 3
   },
   "file_extension": ".py",
   "mimetype": "text/x-python",
   "name": "python",
   "nbconvert_exporter": "python",
   "pygments_lexer": "ipython3",
   "version": "3.8.12"
  }
 },
 "nbformat": 4,
 "nbformat_minor": 4
}
