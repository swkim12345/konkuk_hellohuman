{
 "cells": [
  {
   "cell_type": "code",
   "execution_count": 1,
   "metadata": {},
   "outputs": [
    {
     "name": "stderr",
     "output_type": "stream",
     "text": [
      "playsound is relying on a python 2 subprocess. Please use `pip3 install PyObjC` if you want playsound to run more efficiently.\n"
     ]
    },
    {
     "name": "stdout",
     "output_type": "stream",
     "text": [
      "importing Jupyter notebook from read_config.ipynb\n",
      "{'auth_URL': 'https://oauth.api.lgthinqai.net:443/v1/cognito/',\n",
      " 'client_ID': '2q9q3l4gi3lr0nuad91runfaqf',\n",
      " 'client_PW': '1rrj3nk1u3rkoten4k3n60t397mliimt6p8dqibr7o4ifole8ocn',\n",
      " 'rest_api_key': 'MTtlYjQ1Zjk5ZTVjMDU0ZTRmODJhOTEzN2JkZGJjZDAxNzsxNjM2NjAxMTY4OTEz'}\n",
      "importing Jupyter notebook from get_token.ipynb\n",
      "{\"type\": \"SYNTHESIS\", \"input\": {\"text\": \"\\uc5d8\\uc9c0 \\ud2f0\\ud2f0\\uc5d0\\uc2a4\\uc785\\ub2c8\\ub2e4. \", \"type\": \"Plain Text\"}, \"voiceConfig\": {\"speaker\": \"Male\", \"speed\": \"Medium\", \"languageCode\": \"ko_KR\", \"effect\": \"None\", \"volume\": \"Volume 4\", \"pitch\": \"High\"}, \"audioConfig\": {\"encoding\": \"MP3\"}, \"additionalConfig\": {\"privacy\": \"yes\"}}\n"
     ]
    }
   ],
   "source": [
    "import requests\n",
    "import json\n",
    "import time\n",
    "from playsound import playsound\n",
    "import import_ipynb\n",
    "from read_config import *\n",
    "from get_token import get_token\n",
    "\n",
    "test = \"엘지 티티에스입니다. \"\n",
    "token = get_token()\n",
    "data_sample =json.dumps({\n",
    "  \"type\": \"SYNTHESIS\",\n",
    "  \"input\": {\n",
    "    \"text\": test,\n",
    "    \"type\": \"Plain Text\"\n",
    "  },\n",
    "  \"voiceConfig\": {\n",
    "    \"speaker\": \"Male\",\n",
    "    \"speed\": \"Medium\",\n",
    "    \"languageCode\": \"ko_KR\",\n",
    "    \"effect\": \"None\",\n",
    "    \"volume\": \"Volume 4\",\n",
    "    \"pitch\": \"High\"\n",
    "  },\n",
    "  \"audioConfig\": {\n",
    "    \"encoding\": \"MP3\"\n",
    "  },\n",
    "  \"additionalConfig\": {\n",
    "    \"privacy\": \"yes\"\n",
    "  }\n",
    "}, sort_keys=False)\n",
    "\n",
    "rest_api_key = read_rest_api_key()\n",
    "headers = {\n",
    "    \"Content-Type\": 'application/json',\n",
    "    \"x-api-key\": rest_api_key,\n",
    "    \"Authorization\": token\n",
    "}\n",
    "URL = 'https://korea.api.lgthinqai.net:443/voice/tts/v1/synthesis'\n",
    "print(data_sample)\n",
    "voice_parse = requests.post(URL, headers = headers, data=data_sample)\n",
    "\n",
    "mp3_file = voice_parse.content\n",
    "\n",
    "with open(\"mp3_file.mp3\", \"wb\") as f:\n",
    "    f.write(mp3_file)"
   ]
  },
  {
   "cell_type": "code",
   "execution_count": 2,
   "metadata": {},
   "outputs": [
    {
     "name": "stdout",
     "output_type": "stream",
     "text": [
      "<Response [200]>\n"
     ]
    }
   ],
   "source": [
    "print(voice_parse)\n"
   ]
  },
  {
   "cell_type": "code",
   "execution_count": null,
   "metadata": {},
   "outputs": [],
   "source": []
  },
  {
   "cell_type": "code",
   "execution_count": null,
   "metadata": {},
   "outputs": [],
   "source": []
  }
 ],
 "metadata": {
  "kernelspec": {
   "display_name": "Python 3",
   "language": "python",
   "name": "python3"
  },
  "language_info": {
   "codemirror_mode": {
    "name": "ipython",
    "version": 3
   },
   "file_extension": ".py",
   "mimetype": "text/x-python",
   "name": "python",
   "nbconvert_exporter": "python",
   "pygments_lexer": "ipython3",
   "version": "3.9.7"
  }
 },
 "nbformat": 4,
 "nbformat_minor": 4
}
