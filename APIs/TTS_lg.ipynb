{
 "cells": [
  {
   "cell_type": "code",
   "execution_count": 18,
   "metadata": {},
   "outputs": [
    {
     "name": "stdout",
     "output_type": "stream",
     "text": [
      "Basic MnE5cTNsNGdpM2xyMG51YWQ5MXJ1bmZhcWY6MXJyajNuazF1M3Jrb3RlbjRrM242MHQzOTdtbGlpbXQ2cDhkcWlicjdvNGlmb2xlOG9jbg==\n",
      "eyJraWQiOiJCeTd2YzJLa2c4Zkt3K2V0SFBwa1NlTVJUS0FmRWZWXC9NcGdmSmV3Nlo1QT0iLCJhbGciOiJSUzI1NiJ9.eyJzdWIiOiIycTlxM2w0Z2kzbHIwbnVhZDkxcnVuZmFxZiIsInRva2VuX3VzZSI6ImFjY2VzcyIsInNjb3BlIjoicmVzb3VyY2VfYWNjZXNzX3Njb3BlX2lkZW50aWZpZXJcL3N0dCByZXNvdXJjZV9hY2Nlc3Nfc2NvcGVfaWRlbnRpZmllclwvdHRzIHJlc291cmNlX2FjY2Vzc19zY29wZV9pZGVudGlmaWVyXC9ubHAgcmVzb3VyY2VfYWNjZXNzX3Njb3BlX2lkZW50aWZpZXJcL2VyIHJlc291cmNlX2FjY2Vzc19zY29wZV9pZGVudGlmaWVyXC9jcnVkIiwiYXV0aF90aW1lIjoxNjM2NjM4NzExLCJpc3MiOiJodHRwczpcL1wvY29nbml0by1pZHAuYXAtbm9ydGhlYXN0LTIuYW1hem9uYXdzLmNvbVwvYXAtbm9ydGhlYXN0LTJfN1VUYXhzSVlzIiwiZXhwIjoxNjM2NjQyMzExLCJpYXQiOjE2MzY2Mzg3MTEsInZlcnNpb24iOjIsImp0aSI6Ijg4YjA4YjBjLTQ5OTktNGEwNS1iOGNkLWJhN2VkZDU5NzY1MSIsImNsaWVudF9pZCI6IjJxOXEzbDRnaTNscjBudWFkOTFydW5mYXFmIn0.t8wIwHUJx84W4RKPlDjckz1RYOErzVaetTmN315HLCaK46YKIty_0byVS7KBfZFWUaVnLdMDHiTRJs8vK1iYzM5LWPZ7_pYozpS63VqCBRniy-0JOQhM-6OgfAT0DRw3rdX07LzajhWcIpVLCKtrnyguQy8HlwkwbEiuXuQJZxcGCIGRBpPCp1_DEI9GxI2v6DIWM8pVBuPENvh8bMuhV6q_FDcmmfrXDlnZYHE0HBAQX4FdbKjCsA5NY9MO508dxRld0szJKMT0Ge6KfW2pKMdoCaZ1Xsf-xdnqK0KduPuxr1B6Wq-Ob7Cnq4s8Xztw1H8zgg4OtLBrelANW8ieRA\n",
      "1636638714.2085102\n",
      "{\"type\": \"SYNTHESIS\", \"input\": {\"text\": \"\\uc548\\ub155\\ud558\\uc2ed\\ub2c8\\uae4c \\uad6d\\ubbfc\\uc5ec\\ub7ec\\ubd84 \\uc774\\uacf3\\uc740 \\ub300\\ud55c\", \"type\": \"Plain Text\"}, \"voiceConfig\": {\"speaker\": \"Female1\", \"speed\": \"Medium\", \"languageCode\": \"ko_KR\", \"effect\": \"None\", \"volume\": \"Volume 4\", \"pitch\": \"Normal\"}, \"audioConfig\": {\"encoding\": \"MP3\"}, \"additionalConfig\": {\"privacy\": \"yes\"}}\n"
     ]
    }
   ],
   "source": [
    "import requests\n",
    "import json\n",
    "import time\n",
    "from playsound import playsound\n",
    "\n",
    "import base64\n",
    "\n",
    "auth_raw = \"2q9q3l4gi3lr0nuad91runfaqf:1rrj3nk1u3rkoten4k3n60t397mliimt6p8dqibr7o4ifole8ocn\"\n",
    "auth_byte = auth_raw.encode('ascii')\n",
    "auth_base64 = base64.b64encode(auth_byte)\n",
    "auth = 'Basic ' + auth_base64.decode('ascii')\n",
    "print(auth)\n",
    "r = requests.post('https://oauth.api.lgthinqai.net:443/v1/cognito/', headers={'Authorization' : auth, 'Content-Type' : 'application/x-www-form-urlencoded'})\n",
    "print(r.json()[\"access_token\"])\n",
    "\n",
    "print(time.time())\n",
    "data_sample =json.dumps({\n",
    "  \"type\": \"SYNTHESIS\",\n",
    "  \"input\": {\n",
    "    \"text\": \"안녕하십니까 국민여러분 이곳은 대한\",\n",
    "    \"type\": \"Plain Text\"\n",
    "  },\n",
    "  \"voiceConfig\": {\n",
    "    \"speaker\": \"Female1\",\n",
    "    \"speed\": \"Medium\",\n",
    "    \"languageCode\": \"ko_KR\",\n",
    "    \"effect\": \"None\",\n",
    "    \"volume\": \"Volume 4\",\n",
    "    \"pitch\": \"Normal\"\n",
    "  },\n",
    "  \"audioConfig\": {\n",
    "    \"encoding\": \"MP3\"\n",
    "  },\n",
    "  \"additionalConfig\": {\n",
    "    \"privacy\": \"yes\"\n",
    "  }\n",
    "}, sort_keys=False)\n",
    "\n",
    "print(data_sample)\n",
    "voice_parse = requests.post('https://korea.api.lgthinqai.net:443/voice/tts/v1/synthesis', headers={'x-api-key' : 'MTtlYjQ1Zjk5ZTVjMDU0ZTRmODJhOTEzN2JkZGJjZDAxNzsxNjM2NjAxMTY4OTEz',\n",
    " 'Authorization' : r.json()[\"access_token\"],\n",
    "'Content-Type' : 'application/json'}, data=data_sample)\n",
    "\n",
    "mp3_file = voice_parse.content\n",
    "\n",
    "with open(\"mp3_file.mp3\", \"wb\") as f:\n",
    "    f.write(mp3_file)"
   ]
  },
  {
   "cell_type": "code",
   "execution_count": 19,
   "metadata": {},
   "outputs": [
    {
     "name": "stdout",
     "output_type": "stream",
     "text": [
      "<Response [200]>\n"
     ]
    }
   ],
   "source": [
    "print(voice_parse)\n"
   ]
  },
  {
   "cell_type": "code",
   "execution_count": null,
   "metadata": {},
   "outputs": [],
   "source": []
  }
 ],
 "metadata": {
  "kernelspec": {
   "display_name": "Python 3",
   "language": "python",
   "name": "python3"
  },
  "language_info": {
   "codemirror_mode": {
    "name": "ipython",
    "version": 3
   },
   "file_extension": ".py",
   "mimetype": "text/x-python",
   "name": "python",
   "nbconvert_exporter": "python",
   "pygments_lexer": "ipython3",
   "version": "3.8.5"
  }
 },
 "nbformat": 4,
 "nbformat_minor": 4
}
