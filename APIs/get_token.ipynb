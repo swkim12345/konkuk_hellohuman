{
 "cells": [
  {
   "cell_type": "code",
   "execution_count": 1,
   "metadata": {},
   "outputs": [
    {
     "name": "stdout",
     "output_type": "stream",
     "text": [
      "Basic MnE5cTNsNGdpM2xyMG51YWQ5MXJ1bmZhcWY6MXJyajNuazF1M3Jrb3RlbjRrM242MHQzOTdtbGlpbXQ2cDhkcWlicjdvNGlmb2xlOG9jbg==\n",
      "{\"access_token\":\"eyJraWQiOiJCeTd2YzJLa2c4Zkt3K2V0SFBwa1NlTVJUS0FmRWZWXC9NcGdmSmV3Nlo1QT0iLCJhbGciOiJSUzI1NiJ9.eyJzdWIiOiIycTlxM2w0Z2kzbHIwbnVhZDkxcnVuZmFxZiIsInRva2VuX3VzZSI6ImFjY2VzcyIsInNjb3BlIjoicmVzb3VyY2VfYWNjZXNzX3Njb3BlX2lkZW50aWZpZXJcL3N0dCByZXNvdXJjZV9hY2Nlc3Nfc2NvcGVfaWRlbnRpZmllclwvdHRzIHJlc291cmNlX2FjY2Vzc19zY29wZV9pZGVudGlmaWVyXC9ubHAgcmVzb3VyY2VfYWNjZXNzX3Njb3BlX2lkZW50aWZpZXJcL2VyIHJlc291cmNlX2FjY2Vzc19zY29wZV9pZGVudGlmaWVyXC9jcnVkIiwiYXV0aF90aW1lIjoxNjM3MjMxOTU3LCJpc3MiOiJodHRwczpcL1wvY29nbml0by1pZHAuYXAtbm9ydGhlYXN0LTIuYW1hem9uYXdzLmNvbVwvYXAtbm9ydGhlYXN0LTJfN1VUYXhzSVlzIiwiZXhwIjoxNjM3MjM1NTU3LCJpYXQiOjE2MzcyMzE5NTcsInZlcnNpb24iOjIsImp0aSI6IjVhZDIwNDRlLWMxYjEtNDc4Ny1hZDhhLTIzMjdiYWRkNTE3MyIsImNsaWVudF9pZCI6IjJxOXEzbDRnaTNscjBudWFkOTFydW5mYXFmIn0.LpmzCohuC4O5NDN2xViZoyTAxwYwtQGjuqdhrBphxOKed1AkyTStWZ2HEDsZmRf1rdp-X5AVn0I5cpTYo3BPrOb3GB-xgh6Fv1-xy77rB7cGpwhvJOEipBEIP49PnVXV0Qqa-eZkG4jdfiM9drCQ3ue5c15a98YBbBCXEkaPMpbz_CMqcSudRReCarwrgPXLDV7kHjSmSH6p3eZGNwkC7jkzDXeyEZlkHMFM4nktIib4FSIHhnE4lqrL3bOprnflfN4YwBpjViR5GY_6pziRVpOzrrGpaGAWRx5dIqxTtWcP6yAC758wmikszS1jVddNZLWABTMqIlVnMAAe7HDHFw\",\"expires_in\":3600,\"token_type\":\"Bearer\"}\n"
     ]
    }
   ],
   "source": [
    "import base64\n",
    "import requests\n",
    "\n",
    "auth_raw = \"2q9q3l4gi3lr0nuad91runfaqf:1rrj3nk1u3rkoten4k3n60t397mliimt6p8dqibr7o4ifole8ocn\"\n",
    "auth_byte = auth_raw.encode('ascii')\n",
    "auth_base64 = base64.b64encode(auth_byte)\n",
    "auth = 'Basic ' + auth_base64.decode('ascii')\n",
    "print(auth)\n",
    "r = requests.post('https://oauth.api.lgthinqai.net:443/v1/cognito/', headers={'Authorization' : auth, 'Content-Type' : 'application/x-www-form-urlencoded'})\n",
    "print(r.text)"
   ]
  },
  {
   "cell_type": "code",
   "execution_count": null,
   "metadata": {},
   "outputs": [],
   "source": []
  }
 ],
 "metadata": {
  "kernelspec": {
   "display_name": "Python 3",
   "language": "python",
   "name": "python3"
  },
  "language_info": {
   "codemirror_mode": {
    "name": "ipython",
    "version": 3
   },
   "file_extension": ".py",
   "mimetype": "text/x-python",
   "name": "python",
   "nbconvert_exporter": "python",
   "pygments_lexer": "ipython3",
   "version": "3.8.5"
  }
 },
 "nbformat": 4,
 "nbformat_minor": 4
}
