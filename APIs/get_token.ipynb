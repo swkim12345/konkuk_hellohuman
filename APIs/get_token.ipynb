{
 "cells": [
  {
   "cell_type": "code",
   "execution_count": 2,
   "metadata": {},
   "outputs": [
    {
     "name": "stdout",
     "output_type": "stream",
     "text": [
      "Basic MnE5cTNsNGdpM2xyMG51YWQ5MXJ1bmZhcWY6MXJyajNuazF1M3Jrb3RlbjRrM242MHQzOTdtbGlpbXQ2cDhkcWlicjdvNGlmb2xlOG9jbg==\n",
      "{\"access_token\":\"eyJraWQiOiJCeTd2YzJLa2c4Zkt3K2V0SFBwa1NlTVJUS0FmRWZWXC9NcGdmSmV3Nlo1QT0iLCJhbGciOiJSUzI1NiJ9.eyJzdWIiOiIycTlxM2w0Z2kzbHIwbnVhZDkxcnVuZmFxZiIsInRva2VuX3VzZSI6ImFjY2VzcyIsInNjb3BlIjoicmVzb3VyY2VfYWNjZXNzX3Njb3BlX2lkZW50aWZpZXJcL3N0dCByZXNvdXJjZV9hY2Nlc3Nfc2NvcGVfaWRlbnRpZmllclwvdHRzIHJlc291cmNlX2FjY2Vzc19zY29wZV9pZGVudGlmaWVyXC9ubHAgcmVzb3VyY2VfYWNjZXNzX3Njb3BlX2lkZW50aWZpZXJcL2VyIHJlc291cmNlX2FjY2Vzc19zY29wZV9pZGVudGlmaWVyXC9jcnVkIiwiYXV0aF90aW1lIjoxNjM2NjM2MzUyLCJpc3MiOiJodHRwczpcL1wvY29nbml0by1pZHAuYXAtbm9ydGhlYXN0LTIuYW1hem9uYXdzLmNvbVwvYXAtbm9ydGhlYXN0LTJfN1VUYXhzSVlzIiwiZXhwIjoxNjM2NjM5OTUyLCJpYXQiOjE2MzY2MzYzNTIsInZlcnNpb24iOjIsImp0aSI6ImY5ZWJjZTY2LTExZmYtNGMxYy1iZTlkLTg4NWY4ZjRlZTgyMiIsImNsaWVudF9pZCI6IjJxOXEzbDRnaTNscjBudWFkOTFydW5mYXFmIn0.BbnKGPPNvE5GBhujXH0ygtRf9Now2JPRskjT68HrqvBjvG-6JhEdAzvNEsrGYbhUq4aSLL1z0X5wJdRZLV6O6QHSNh1_epr3y5ByWszIDVtQgLZ5jeHjbGoWV1QvTawmbEORugXennvy_7RKqshic0DjbNA9ov_fJRM2BcjDAhHbqI9Gt0WlBrkBslArLxK3LeFPk-5MIcU99xMBfbsZwlBbq31UXwyxEbEmU6-drIHSidnhL1pUwB0LLvA300avAh1N3AhmKehCy5vE8qtogMGN6a046aO_yyRRksqKs04fs0GI1lvcOororEHD91WUVf82MmEKKKJIB2Az9wEbiw\",\"expires_in\":3600,\"token_type\":\"Bearer\"}\n"
     ]
    }
   ],
   "source": [
    "import base64\n",
    "import requests\n",
    "\n",
    "auth_raw = \"2q9q3l4gi3lr0nuad91runfaqf:1rrj3nk1u3rkoten4k3n60t397mliimt6p8dqibr7o4ifole8ocn\"\n",
    "auth_byte = auth_raw.encode('ascii')\n",
    "auth_base64 = base64.b64encode(auth_byte)\n",
    "auth = 'Basic ' + auth_base64.decode('ascii')\n",
    "print(auth)\n",
    "r = requests.post('https://oauth.api.lgthinqai.net:443/v1/cognito/', headers={'Authorization' : auth, 'Content-Type' : 'application/x-www-form-urlencoded'})\n",
    "print(r.text)"
   ]
  },
  {
   "cell_type": "code",
   "execution_count": null,
   "metadata": {},
   "outputs": [],
   "source": []
  }
 ],
 "metadata": {
  "kernelspec": {
   "display_name": "Python 3",
   "language": "python",
   "name": "python3"
  },
  "language_info": {
   "codemirror_mode": {
    "name": "ipython",
    "version": 3
   },
   "file_extension": ".py",
   "mimetype": "text/x-python",
   "name": "python",
   "nbconvert_exporter": "python",
   "pygments_lexer": "ipython3",
   "version": "3.8.5"
  }
 },
 "nbformat": 4,
 "nbformat_minor": 4
}
