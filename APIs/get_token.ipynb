{
 "cells": [
  {
   "cell_type": "code",
   "execution_count": 20,
   "metadata": {},
   "outputs": [
    {
     "name": "stdout",
     "output_type": "stream",
     "text": [
      "eyJraWQiOiJCeTd2YzJLa2c4Zkt3K2V0SFBwa1NlTVJUS0FmRWZWXC9NcGdmSmV3Nlo1QT0iLCJhbGciOiJSUzI1NiJ9.eyJzdWIiOiIycTlxM2w0Z2kzbHIwbnVhZDkxcnVuZmFxZiIsInRva2VuX3VzZSI6ImFjY2VzcyIsInNjb3BlIjoicmVzb3VyY2VfYWNjZXNzX3Njb3BlX2lkZW50aWZpZXJcL3N0dCByZXNvdXJjZV9hY2Nlc3Nfc2NvcGVfaWRlbnRpZmllclwvdHRzIHJlc291cmNlX2FjY2Vzc19zY29wZV9pZGVudGlmaWVyXC9ubHAgcmVzb3VyY2VfYWNjZXNzX3Njb3BlX2lkZW50aWZpZXJcL2VyIHJlc291cmNlX2FjY2Vzc19zY29wZV9pZGVudGlmaWVyXC9jcnVkIiwiYXV0aF90aW1lIjoxNjM3NzUwMzQ0LCJpc3MiOiJodHRwczpcL1wvY29nbml0by1pZHAuYXAtbm9ydGhlYXN0LTIuYW1hem9uYXdzLmNvbVwvYXAtbm9ydGhlYXN0LTJfN1VUYXhzSVlzIiwiZXhwIjoxNjM3NzUzOTQ0LCJpYXQiOjE2Mzc3NTAzNDQsInZlcnNpb24iOjIsImp0aSI6IjRlYTdmMzUyLWFlMjQtNGVlZS1iMWYyLTIxMDE2N2JjZmE4ZSIsImNsaWVudF9pZCI6IjJxOXEzbDRnaTNscjBudWFkOTFydW5mYXFmIn0.Zwh5ZQR2G7pcKmyJY0yCwwvEsrBYY0yTKlMQv6jJ5C90wiowtzuaUbWcfmQy6FKXckmnQyuwWpQC-SY-_TfN-igy3OH9SdlSCzPCpDN7X45yQ0HVwdyR9kzvfN_1_jpIAQBs7gADxgnZA-E6AygQBcxQ9JKzMGlFuinpnK1770H0RcoGAF2mp9hLRN78-qlvL-4pmmWoOfELFJ4-5SktStoVt4BOgBxm4u-PpKwyOA5PTLtf5rIngx10eKxJ6qLczZJ2Pry6gfXHIZaa68OpIgnB6VXW0wNy5KUpH8qUNsA0S-JG7tUdGZdKxuDBeS5xGlQPSre0Z6vKbDTHVLyR2Q\n",
      "eyJraWQiOiJCeTd2YzJLa2c4Zkt3K2V0SFBwa1NlTVJUS0FmRWZWXC9NcGdmSmV3Nlo1QT0iLCJhbGciOiJSUzI1NiJ9.eyJzdWIiOiIycTlxM2w0Z2kzbHIwbnVhZDkxcnVuZmFxZiIsInRva2VuX3VzZSI6ImFjY2VzcyIsInNjb3BlIjoicmVzb3VyY2VfYWNjZXNzX3Njb3BlX2lkZW50aWZpZXJcL3N0dCByZXNvdXJjZV9hY2Nlc3Nfc2NvcGVfaWRlbnRpZmllclwvdHRzIHJlc291cmNlX2FjY2Vzc19zY29wZV9pZGVudGlmaWVyXC9ubHAgcmVzb3VyY2VfYWNjZXNzX3Njb3BlX2lkZW50aWZpZXJcL2VyIHJlc291cmNlX2FjY2Vzc19zY29wZV9pZGVudGlmaWVyXC9jcnVkIiwiYXV0aF90aW1lIjoxNjM3NzUwMzQ0LCJpc3MiOiJodHRwczpcL1wvY29nbml0by1pZHAuYXAtbm9ydGhlYXN0LTIuYW1hem9uYXdzLmNvbVwvYXAtbm9ydGhlYXN0LTJfN1VUYXhzSVlzIiwiZXhwIjoxNjM3NzUzOTQ0LCJpYXQiOjE2Mzc3NTAzNDQsInZlcnNpb24iOjIsImp0aSI6IjRlYTdmMzUyLWFlMjQtNGVlZS1iMWYyLTIxMDE2N2JjZmE4ZSIsImNsaWVudF9pZCI6IjJxOXEzbDRnaTNscjBudWFkOTFydW5mYXFmIn0.Zwh5ZQR2G7pcKmyJY0yCwwvEsrBYY0yTKlMQv6jJ5C90wiowtzuaUbWcfmQy6FKXckmnQyuwWpQC-SY-_TfN-igy3OH9SdlSCzPCpDN7X45yQ0HVwdyR9kzvfN_1_jpIAQBs7gADxgnZA-E6AygQBcxQ9JKzMGlFuinpnK1770H0RcoGAF2mp9hLRN78-qlvL-4pmmWoOfELFJ4-5SktStoVt4BOgBxm4u-PpKwyOA5PTLtf5rIngx10eKxJ6qLczZJ2Pry6gfXHIZaa68OpIgnB6VXW0wNy5KUpH8qUNsA0S-JG7tUdGZdKxuDBeS5xGlQPSre0Z6vKbDTHVLyR2Q\n"
     ]
    }
   ],
   "source": [
    "import base64\n",
    "import requests\n",
    "import import_ipynb\n",
    "from read_config import *\n",
    "\n",
    "def get_token():\n",
    "    client_ID = read_client_ID()\n",
    "    client_PW = read_client_PW()\n",
    "    auth_URL = read_auth_URL()\n",
    "\n",
    "    auth_raw = client_ID + ':' + client_PW\n",
    "    auth_byte = auth_raw.encode('ascii')\n",
    "    auth_base64 = base64.b64encode(auth_byte)\n",
    "    auth = 'Basic ' + auth_base64.decode('ascii')\n",
    "\n",
    "\n",
    "    r = requests.post(auth_URL, headers={'Authorization' : auth, 'Content-Type' : 'application/x-www-form-urlencoded'})\n",
    "    token = r.json()[\"access_token\"]\n",
    "    print(token)\n",
    "    return token"
   ]
  },
  {
   "cell_type": "code",
   "execution_count": null,
   "metadata": {},
   "outputs": [],
   "source": []
  }
 ],
 "metadata": {
  "kernelspec": {
   "display_name": "Python 3",
   "language": "python",
   "name": "python3"
  },
  "language_info": {
   "codemirror_mode": {
    "name": "ipython",
    "version": 3
   },
   "file_extension": ".py",
   "mimetype": "text/x-python",
   "name": "python",
   "nbconvert_exporter": "python",
   "pygments_lexer": "ipython3",
   "version": "3.8.5"
  }
 },
 "nbformat": 4,
 "nbformat_minor": 4
}
