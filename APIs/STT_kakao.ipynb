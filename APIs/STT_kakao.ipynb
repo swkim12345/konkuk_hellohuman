{
 "cells": [
  {
   "cell_type": "code",
   "execution_count": 12,
   "metadata": {},
   "outputs": [
    {
     "name": "stdout",
     "output_type": "stream",
     "text": [
      "------newtonezcotrNIFbHRmMtjN\r\n",
      "Content-Type: application/json; charset=UTF-8\r\n",
      "\r\n",
      "{\"type\":\"errorCalled\",\"value\":\"Error 4 Received Nack - no result\"}\r\n",
      "------newtonezcotrNIFbHRmMtjN--\r\n",
      "\n"
     ]
    }
   ],
   "source": [
    "import requests\n",
    "import json\n",
    "kakao_speech_url = \"https://kakaoi-newtone-openapi.kakao.com/v1/recognize\"\n",
    "\n",
    "##get key from  https://developers.kakao.com/product\n",
    "rest_api_key = '293253972858d4b09d46fc714d9de181' #한달 \n",
    "\n",
    "headers = {\n",
    "    \"Content-Type\": \"application/octet-stream\",\n",
    "    \"X-DSS-Service\": \"DICTATION\",\n",
    "    \"Authorization\": \"KakaoAK \" + rest_api_key,\n",
    "}\n",
    "\n",
    "with open('audio_file.wav', 'rb') as af:\n",
    "    audio = af.read()\n",
    "\n",
    "result = requests.post(kakao_speech_url, headers=headers, data=audio)\n",
    "print(result.text)"
   ]
  },
  {
   "cell_type": "code",
   "execution_count": null,
   "metadata": {},
   "outputs": [],
   "source": []
  }
 ],
 "metadata": {
  "kernelspec": {
   "display_name": "Python 3",
   "language": "python",
   "name": "python3"
  },
  "language_info": {
   "codemirror_mode": {
    "name": "ipython",
    "version": 3
   },
   "file_extension": ".py",
   "mimetype": "text/x-python",
   "name": "python",
   "nbconvert_exporter": "python",
   "pygments_lexer": "ipython3",
   "version": "3.8.5"
  }
 },
 "nbformat": 4,
 "nbformat_minor": 4
}
