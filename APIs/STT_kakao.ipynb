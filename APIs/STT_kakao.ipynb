{
 "cells": [
  {
   "cell_type": "code",
   "execution_count": 7,
   "metadata": {},
   "outputs": [
    {
     "name": "stdout",
     "output_type": "stream",
     "text": [
      "<Response [200]>\n",
      "------newtonez1wnCyTnhvP0ttXP\r\n",
      "Content-Type: application/json; charset=UTF-8\r\n",
      "\r\n",
      "{\"type\":\"beginPointDetection\",\"value\":\"BPD\"}\r\n",
      "------newtonez1wnCyTnhvP0ttXP\r\n",
      "Content-Type: application/json; charset=UTF-8\r\n",
      "\r\n",
      "{\"type\":\"partialResult\",\"value\":\"요\"}\r\n",
      "------newtonez1wnCyTnhvP0ttXP\r\n",
      "Content-Type: application/json; charset=UTF-8\r\n",
      "\r\n",
      "{\"type\":\"partialResult\",\"value\":\"요 심리가\"}\r\n",
      "------newtonez1wnCyTnhvP0ttXP\r\n",
      "Content-Type: application/json; charset=UTF-8\r\n",
      "\r\n",
      "{\"type\":\"partialResult\",\"value\":\"요 심리가 국민\"}\r\n",
      "------newtonez1wnCyTnhvP0ttXP\r\n",
      "Content-Type: application/json; charset=UTF-8\r\n",
      "\r\n",
      "{\"type\":\"partialResult\",\"value\":\"요 심리가 국민 여러분\"}\r\n",
      "------newtonez1wnCyTnhvP0ttXP\r\n",
      "Content-Type: application/json; charset=UTF-8\r\n",
      "\r\n",
      "{\"type\":\"partialResult\",\"value\":\"요 심리가 국민 여러분 대한민국\"}\r\n",
      "------newtonez1wnCyTnhvP0ttXP\r\n",
      "Content-Type: application/json; charset=UTF-8\r\n",
      "\r\n",
      "{\"type\":\"partialResult\",\"value\":\"요 심리가 국민 여러분 대한민국 의료\"}\r\n",
      "------newtonez1wnCyTnhvP0ttXP\r\n",
      "Content-Type: application/json; charset=UTF-8\r\n",
      "\r\n",
      "{\"type\":\"endPointDetection\",\"value\":\"EPD\"}\r\n",
      "------newtonez1wnCyTnhvP0ttXP\r\n",
      "Content-Type: application/json; charset=UTF-8\r\n",
      "\r\n",
      "{\"type\":\"partialResult\",\"value\":\"요 심리가 국민 여러분 대한민국 의료 시설\"}\r\n",
      "------newtonez1wnCyTnhvP0ttXP\r\n",
      "Content-Type: application/json; charset=UTF-8\r\n",
      "Speech-Length: 4\r\n",
      "\r\n",
      "{\"type\":\"finalResult\",\"value\":\"욧입니까 국민 여러분 대한민국 의료 시설 다녀와\",\"nBest\":[{\"value\":\"욧입니까 국민 여러분 대한민국 의료 시설 다녀와\",\"score\":0},{\"value\":\"요 심리가 국민 여러분 대한민국 의료 시설 다녀와\",\"score\":0},{\"value\":\"요새 심리가 국민 여러분 대한민국 의료 시설 다녀와\",\"score\":0},{\"value\":\"요 십니까 국민 여러분 대한민국 의료 시설 다녀와\",\"score\":0},{\"value\":\"요 십 니가 국민 여러분 대한민국 의료 시설 다녀와\",\"score\":0},{\"value\":\"엿입니까 국민 여러분 대한민국 의료 시설 다녀와\",\"score\":0},{\"value\":\"효 십리가 국민 여러분 대한민국 의료 시설 다녀와\",\"score\":0},{\"value\":\"효신 이가 국민 여러분 대한민국 의료 시설 다녀와\",\"score\":0},{\"value\":\"요 십 니가 국민 여러분 대한민국의 의료 시설 다녀와\",\"score\":0},{\"value\":\"요 십 니가 국민 여러분 대한민국 의료 시설에 다녀와\",\"score\":0}],\"voiceProfile\":{\"registered\":false,\"authenticated\":false},\"durationMS\":4780,\"qmarkScore\":0,\"gender\":0}\r\n",
      "------newtonez1wnCyTnhvP0ttXP--\r\n",
      "\n"
     ]
    }
   ],
   "source": [
    "import requests\n",
    "import json\n",
    "kakao_speech_url = \"https://kakaoi-newtone-openapi.kakao.com/v1/recognize\"\n",
    "\n",
    "##get key from  https://developers.kakao.com/product\n",
    "rest_api_key = '293253972858d4b09d46fc714d9de181' #한달 \n",
    "\n",
    "headers = {\n",
    "    \"Content-Type\": \"application/octet-stream\",\n",
    "    \"X-DSS-Service\": \"DICTATION\",\n",
    "    \"Authorization\": \"KakaoAK \" + rest_api_key,\n",
    "}\n",
    "\n",
    "with open('audio_file.wav', 'rb') as af:\n",
    "    audio = af.read()\n",
    "\n",
    "result = requests.post(kakao_speech_url, headers=headers, data=audio)\n",
    "print(result)\n",
    "print(result.text)"
   ]
  },
  {
   "cell_type": "code",
   "execution_count": null,
   "metadata": {},
   "outputs": [],
   "source": []
  }
 ],
 "metadata": {
  "kernelspec": {
   "display_name": "Python 3",
   "language": "python",
   "name": "python3"
  },
  "language_info": {
   "codemirror_mode": {
    "name": "ipython",
    "version": 3
   },
   "file_extension": ".py",
   "mimetype": "text/x-python",
   "name": "python",
   "nbconvert_exporter": "python",
   "pygments_lexer": "ipython3",
   "version": "3.8.5"
  }
 },
 "nbformat": 4,
 "nbformat_minor": 4
}
